{
  "nbformat": 4,
  "nbformat_minor": 0,
  "metadata": {
    "colab": {
      "provenance": []
    },
    "kernelspec": {
      "name": "python3",
      "display_name": "Python 3"
    },
    "language_info": {
      "name": "python"
    }
  },
  "cells": [
    {
      "cell_type": "markdown",
      "source": [
        "# **Зачет по МФК \"Математическая статистика и анализ данных\"**\n",
        "`Рукавица Артём, ВМК, группа 101`\n",
        "\n",
        "`Я выполнил задания 1-10.`\n"
      ],
      "metadata": {
        "id": "QDPTsD8WeEqw"
      }
    },
    {
      "cell_type": "markdown",
      "source": [
        "**Импорты библиотек**"
      ],
      "metadata": {
        "id": "qX2mVOYLeABj"
      }
    },
    {
      "cell_type": "code",
      "source": [
        "import pandas as pd\n",
        "import matplotlib.pyplot as plt\n",
        "import scipy.stats as st\n",
        "import numpy as np\n",
        "from scipy.stats import ttest_ind\n",
        "from scipy.stats import pearsonr\n",
        "import seaborn as sns\n",
        "from itertools import combinations\n",
        "from scipy.stats import expon"
      ],
      "metadata": {
        "id": "62qDQAK3V10o"
      },
      "execution_count": null,
      "outputs": []
    },
    {
      "cell_type": "markdown",
      "source": [
        "**ЗАДАНИЕ 1.**\n",
        "\n",
        "В каких колонках есть пропущенные значения? Сколько строк, в которых есть хотя бы одно пропущенное значение? Есть ли какая-то особенность в тех рейсах, в которых есть пропущенные значения? Удалите строки, в которых есть хотя бы одно пропущенное значение из дальнейшего анализа.\n"
      ],
      "metadata": {
        "id": "4j_WIJhxeTSL"
      }
    },
    {
      "cell_type": "code",
      "execution_count": null,
      "metadata": {
        "colab": {
          "base_uri": "https://localhost:8080/"
        },
        "id": "q269l-eJRHcO",
        "outputId": "c8345bbc-0775-48d6-b0a0-027f4a4c996c"
      },
      "outputs": [
        {
          "output_type": "execute_result",
          "data": {
            "text/plain": [
              "['dep_time', 'dep_delay', 'arr_time', 'arr_delay', 'tailnum', 'air_time']"
            ]
          },
          "metadata": {},
          "execution_count": 25
        }
      ],
      "source": [
        "df = pd.read_csv('flights_NY.csv')\n",
        "df.columns[df.isna().any()].tolist()\n"
      ]
    },
    {
      "cell_type": "markdown",
      "source": [
        "Приведенная выше ячейка выводит колонки, в которых есть пропущенные значения:\n",
        "`['dep_time', 'dep_delay', 'arr_time', 'arr_delay', 'tailnum', 'air_time']`"
      ],
      "metadata": {
        "id": "d8M86EHVehyp"
      }
    },
    {
      "cell_type": "code",
      "source": [
        "len(df[df.isna().any(axis=1)])"
      ],
      "metadata": {
        "colab": {
          "base_uri": "https://localhost:8080/"
        },
        "id": "b9blk8bkUTMj",
        "outputId": "f61750be-2942-41d6-d451-7f7a54c33c6e"
      },
      "execution_count": null,
      "outputs": [
        {
          "output_type": "execute_result",
          "data": {
            "text/plain": [
              "9430"
            ]
          },
          "metadata": {},
          "execution_count": 26
        }
      ]
    },
    {
      "cell_type": "markdown",
      "source": [
        "9430 -- количество строк, в которых есть хотя бы одно пропущенное значение.\n",
        "\n",
        "Изучим эти строки.\n"
      ],
      "metadata": {
        "id": "ft5RbiVZfdza"
      }
    },
    {
      "cell_type": "code",
      "source": [
        "df[df.isna().any(axis=1)]"
      ],
      "metadata": {
        "colab": {
          "base_uri": "https://localhost:8080/",
          "height": 423
        },
        "id": "OMiD7msShDq6",
        "outputId": "c5f8f238-f238-4420-d547-a534a0b68e3e"
      },
      "execution_count": null,
      "outputs": [
        {
          "output_type": "execute_result",
          "data": {
            "text/plain": [
              "        year  month  day  dep_time  dep_delay  arr_time  arr_delay carrier  \\\n",
              "471     2013      1    1    1525.0       -5.0    1934.0        NaN      MQ   \n",
              "477     2013      1    1    1528.0       29.0    2002.0        NaN      EV   \n",
              "615     2013      1    1    1740.0       -5.0    2158.0        NaN      MQ   \n",
              "643     2013      1    1    1807.0       29.0    2251.0        NaN      UA   \n",
              "725     2013      1    1    1939.0       59.0      29.0        NaN      9E   \n",
              "...      ...    ...  ...       ...        ...       ...        ...     ...   \n",
              "336771  2013      9   30       NaN        NaN       NaN        NaN      9E   \n",
              "336772  2013      9   30       NaN        NaN       NaN        NaN      9E   \n",
              "336773  2013      9   30       NaN        NaN       NaN        NaN      MQ   \n",
              "336774  2013      9   30       NaN        NaN       NaN        NaN      MQ   \n",
              "336775  2013      9   30       NaN        NaN       NaN        NaN      MQ   \n",
              "\n",
              "       tailnum  flight origin dest  air_time  distance  \n",
              "471     N719MQ    4525    LGA  XNA       NaN      1147  \n",
              "477     N17108    3806    EWR  STL       NaN       872  \n",
              "615     N739MQ    4413    LGA  XNA       NaN      1147  \n",
              "643     N31412    1228    EWR  SAN       NaN      2425  \n",
              "725     N905XJ    3325    JFK  DFW       NaN      1391  \n",
              "...        ...     ...    ...  ...       ...       ...  \n",
              "336771     NaN    3393    JFK  DCA       NaN       213  \n",
              "336772     NaN    3525    LGA  SYR       NaN       198  \n",
              "336773  N535MQ    3461    LGA  BNA       NaN       764  \n",
              "336774  N511MQ    3572    LGA  CLE       NaN       419  \n",
              "336775  N839MQ    3531    LGA  RDU       NaN       431  \n",
              "\n",
              "[9430 rows x 14 columns]"
            ],
            "text/html": [
              "\n",
              "  <div id=\"df-026ef3f6-a2be-4976-bfa1-acfef9bb299c\">\n",
              "    <div class=\"colab-df-container\">\n",
              "      <div>\n",
              "<style scoped>\n",
              "    .dataframe tbody tr th:only-of-type {\n",
              "        vertical-align: middle;\n",
              "    }\n",
              "\n",
              "    .dataframe tbody tr th {\n",
              "        vertical-align: top;\n",
              "    }\n",
              "\n",
              "    .dataframe thead th {\n",
              "        text-align: right;\n",
              "    }\n",
              "</style>\n",
              "<table border=\"1\" class=\"dataframe\">\n",
              "  <thead>\n",
              "    <tr style=\"text-align: right;\">\n",
              "      <th></th>\n",
              "      <th>year</th>\n",
              "      <th>month</th>\n",
              "      <th>day</th>\n",
              "      <th>dep_time</th>\n",
              "      <th>dep_delay</th>\n",
              "      <th>arr_time</th>\n",
              "      <th>arr_delay</th>\n",
              "      <th>carrier</th>\n",
              "      <th>tailnum</th>\n",
              "      <th>flight</th>\n",
              "      <th>origin</th>\n",
              "      <th>dest</th>\n",
              "      <th>air_time</th>\n",
              "      <th>distance</th>\n",
              "    </tr>\n",
              "  </thead>\n",
              "  <tbody>\n",
              "    <tr>\n",
              "      <th>471</th>\n",
              "      <td>2013</td>\n",
              "      <td>1</td>\n",
              "      <td>1</td>\n",
              "      <td>1525.0</td>\n",
              "      <td>-5.0</td>\n",
              "      <td>1934.0</td>\n",
              "      <td>NaN</td>\n",
              "      <td>MQ</td>\n",
              "      <td>N719MQ</td>\n",
              "      <td>4525</td>\n",
              "      <td>LGA</td>\n",
              "      <td>XNA</td>\n",
              "      <td>NaN</td>\n",
              "      <td>1147</td>\n",
              "    </tr>\n",
              "    <tr>\n",
              "      <th>477</th>\n",
              "      <td>2013</td>\n",
              "      <td>1</td>\n",
              "      <td>1</td>\n",
              "      <td>1528.0</td>\n",
              "      <td>29.0</td>\n",
              "      <td>2002.0</td>\n",
              "      <td>NaN</td>\n",
              "      <td>EV</td>\n",
              "      <td>N17108</td>\n",
              "      <td>3806</td>\n",
              "      <td>EWR</td>\n",
              "      <td>STL</td>\n",
              "      <td>NaN</td>\n",
              "      <td>872</td>\n",
              "    </tr>\n",
              "    <tr>\n",
              "      <th>615</th>\n",
              "      <td>2013</td>\n",
              "      <td>1</td>\n",
              "      <td>1</td>\n",
              "      <td>1740.0</td>\n",
              "      <td>-5.0</td>\n",
              "      <td>2158.0</td>\n",
              "      <td>NaN</td>\n",
              "      <td>MQ</td>\n",
              "      <td>N739MQ</td>\n",
              "      <td>4413</td>\n",
              "      <td>LGA</td>\n",
              "      <td>XNA</td>\n",
              "      <td>NaN</td>\n",
              "      <td>1147</td>\n",
              "    </tr>\n",
              "    <tr>\n",
              "      <th>643</th>\n",
              "      <td>2013</td>\n",
              "      <td>1</td>\n",
              "      <td>1</td>\n",
              "      <td>1807.0</td>\n",
              "      <td>29.0</td>\n",
              "      <td>2251.0</td>\n",
              "      <td>NaN</td>\n",
              "      <td>UA</td>\n",
              "      <td>N31412</td>\n",
              "      <td>1228</td>\n",
              "      <td>EWR</td>\n",
              "      <td>SAN</td>\n",
              "      <td>NaN</td>\n",
              "      <td>2425</td>\n",
              "    </tr>\n",
              "    <tr>\n",
              "      <th>725</th>\n",
              "      <td>2013</td>\n",
              "      <td>1</td>\n",
              "      <td>1</td>\n",
              "      <td>1939.0</td>\n",
              "      <td>59.0</td>\n",
              "      <td>29.0</td>\n",
              "      <td>NaN</td>\n",
              "      <td>9E</td>\n",
              "      <td>N905XJ</td>\n",
              "      <td>3325</td>\n",
              "      <td>JFK</td>\n",
              "      <td>DFW</td>\n",
              "      <td>NaN</td>\n",
              "      <td>1391</td>\n",
              "    </tr>\n",
              "    <tr>\n",
              "      <th>...</th>\n",
              "      <td>...</td>\n",
              "      <td>...</td>\n",
              "      <td>...</td>\n",
              "      <td>...</td>\n",
              "      <td>...</td>\n",
              "      <td>...</td>\n",
              "      <td>...</td>\n",
              "      <td>...</td>\n",
              "      <td>...</td>\n",
              "      <td>...</td>\n",
              "      <td>...</td>\n",
              "      <td>...</td>\n",
              "      <td>...</td>\n",
              "      <td>...</td>\n",
              "    </tr>\n",
              "    <tr>\n",
              "      <th>336771</th>\n",
              "      <td>2013</td>\n",
              "      <td>9</td>\n",
              "      <td>30</td>\n",
              "      <td>NaN</td>\n",
              "      <td>NaN</td>\n",
              "      <td>NaN</td>\n",
              "      <td>NaN</td>\n",
              "      <td>9E</td>\n",
              "      <td>NaN</td>\n",
              "      <td>3393</td>\n",
              "      <td>JFK</td>\n",
              "      <td>DCA</td>\n",
              "      <td>NaN</td>\n",
              "      <td>213</td>\n",
              "    </tr>\n",
              "    <tr>\n",
              "      <th>336772</th>\n",
              "      <td>2013</td>\n",
              "      <td>9</td>\n",
              "      <td>30</td>\n",
              "      <td>NaN</td>\n",
              "      <td>NaN</td>\n",
              "      <td>NaN</td>\n",
              "      <td>NaN</td>\n",
              "      <td>9E</td>\n",
              "      <td>NaN</td>\n",
              "      <td>3525</td>\n",
              "      <td>LGA</td>\n",
              "      <td>SYR</td>\n",
              "      <td>NaN</td>\n",
              "      <td>198</td>\n",
              "    </tr>\n",
              "    <tr>\n",
              "      <th>336773</th>\n",
              "      <td>2013</td>\n",
              "      <td>9</td>\n",
              "      <td>30</td>\n",
              "      <td>NaN</td>\n",
              "      <td>NaN</td>\n",
              "      <td>NaN</td>\n",
              "      <td>NaN</td>\n",
              "      <td>MQ</td>\n",
              "      <td>N535MQ</td>\n",
              "      <td>3461</td>\n",
              "      <td>LGA</td>\n",
              "      <td>BNA</td>\n",
              "      <td>NaN</td>\n",
              "      <td>764</td>\n",
              "    </tr>\n",
              "    <tr>\n",
              "      <th>336774</th>\n",
              "      <td>2013</td>\n",
              "      <td>9</td>\n",
              "      <td>30</td>\n",
              "      <td>NaN</td>\n",
              "      <td>NaN</td>\n",
              "      <td>NaN</td>\n",
              "      <td>NaN</td>\n",
              "      <td>MQ</td>\n",
              "      <td>N511MQ</td>\n",
              "      <td>3572</td>\n",
              "      <td>LGA</td>\n",
              "      <td>CLE</td>\n",
              "      <td>NaN</td>\n",
              "      <td>419</td>\n",
              "    </tr>\n",
              "    <tr>\n",
              "      <th>336775</th>\n",
              "      <td>2013</td>\n",
              "      <td>9</td>\n",
              "      <td>30</td>\n",
              "      <td>NaN</td>\n",
              "      <td>NaN</td>\n",
              "      <td>NaN</td>\n",
              "      <td>NaN</td>\n",
              "      <td>MQ</td>\n",
              "      <td>N839MQ</td>\n",
              "      <td>3531</td>\n",
              "      <td>LGA</td>\n",
              "      <td>RDU</td>\n",
              "      <td>NaN</td>\n",
              "      <td>431</td>\n",
              "    </tr>\n",
              "  </tbody>\n",
              "</table>\n",
              "<p>9430 rows × 14 columns</p>\n",
              "</div>\n",
              "      <button class=\"colab-df-convert\" onclick=\"convertToInteractive('df-026ef3f6-a2be-4976-bfa1-acfef9bb299c')\"\n",
              "              title=\"Convert this dataframe to an interactive table.\"\n",
              "              style=\"display:none;\">\n",
              "        \n",
              "  <svg xmlns=\"http://www.w3.org/2000/svg\" height=\"24px\"viewBox=\"0 0 24 24\"\n",
              "       width=\"24px\">\n",
              "    <path d=\"M0 0h24v24H0V0z\" fill=\"none\"/>\n",
              "    <path d=\"M18.56 5.44l.94 2.06.94-2.06 2.06-.94-2.06-.94-.94-2.06-.94 2.06-2.06.94zm-11 1L8.5 8.5l.94-2.06 2.06-.94-2.06-.94L8.5 2.5l-.94 2.06-2.06.94zm10 10l.94 2.06.94-2.06 2.06-.94-2.06-.94-.94-2.06-.94 2.06-2.06.94z\"/><path d=\"M17.41 7.96l-1.37-1.37c-.4-.4-.92-.59-1.43-.59-.52 0-1.04.2-1.43.59L10.3 9.45l-7.72 7.72c-.78.78-.78 2.05 0 2.83L4 21.41c.39.39.9.59 1.41.59.51 0 1.02-.2 1.41-.59l7.78-7.78 2.81-2.81c.8-.78.8-2.07 0-2.86zM5.41 20L4 18.59l7.72-7.72 1.47 1.35L5.41 20z\"/>\n",
              "  </svg>\n",
              "      </button>\n",
              "      \n",
              "  <style>\n",
              "    .colab-df-container {\n",
              "      display:flex;\n",
              "      flex-wrap:wrap;\n",
              "      gap: 12px;\n",
              "    }\n",
              "\n",
              "    .colab-df-convert {\n",
              "      background-color: #E8F0FE;\n",
              "      border: none;\n",
              "      border-radius: 50%;\n",
              "      cursor: pointer;\n",
              "      display: none;\n",
              "      fill: #1967D2;\n",
              "      height: 32px;\n",
              "      padding: 0 0 0 0;\n",
              "      width: 32px;\n",
              "    }\n",
              "\n",
              "    .colab-df-convert:hover {\n",
              "      background-color: #E2EBFA;\n",
              "      box-shadow: 0px 1px 2px rgba(60, 64, 67, 0.3), 0px 1px 3px 1px rgba(60, 64, 67, 0.15);\n",
              "      fill: #174EA6;\n",
              "    }\n",
              "\n",
              "    [theme=dark] .colab-df-convert {\n",
              "      background-color: #3B4455;\n",
              "      fill: #D2E3FC;\n",
              "    }\n",
              "\n",
              "    [theme=dark] .colab-df-convert:hover {\n",
              "      background-color: #434B5C;\n",
              "      box-shadow: 0px 1px 3px 1px rgba(0, 0, 0, 0.15);\n",
              "      filter: drop-shadow(0px 1px 2px rgba(0, 0, 0, 0.3));\n",
              "      fill: #FFFFFF;\n",
              "    }\n",
              "  </style>\n",
              "\n",
              "      <script>\n",
              "        const buttonEl =\n",
              "          document.querySelector('#df-026ef3f6-a2be-4976-bfa1-acfef9bb299c button.colab-df-convert');\n",
              "        buttonEl.style.display =\n",
              "          google.colab.kernel.accessAllowed ? 'block' : 'none';\n",
              "\n",
              "        async function convertToInteractive(key) {\n",
              "          const element = document.querySelector('#df-026ef3f6-a2be-4976-bfa1-acfef9bb299c');\n",
              "          const dataTable =\n",
              "            await google.colab.kernel.invokeFunction('convertToInteractive',\n",
              "                                                     [key], {});\n",
              "          if (!dataTable) return;\n",
              "\n",
              "          const docLinkHtml = 'Like what you see? Visit the ' +\n",
              "            '<a target=\"_blank\" href=https://colab.research.google.com/notebooks/data_table.ipynb>data table notebook</a>'\n",
              "            + ' to learn more about interactive tables.';\n",
              "          element.innerHTML = '';\n",
              "          dataTable['output_type'] = 'display_data';\n",
              "          await google.colab.output.renderOutput(dataTable, element);\n",
              "          const docLink = document.createElement('div');\n",
              "          docLink.innerHTML = docLinkHtml;\n",
              "          element.appendChild(docLink);\n",
              "        }\n",
              "      </script>\n",
              "    </div>\n",
              "  </div>\n",
              "  "
            ]
          },
          "metadata": {},
          "execution_count": 27
        }
      ]
    },
    {
      "cell_type": "code",
      "source": [
        "to_del = df.isna().any(axis=1)\n",
        "print('Количество строк в dep_time: ', df[to_del]['dep_time'].isna().sum())\n",
        "print('Количество строк в dep_delay: ', df[to_del]['dep_delay'].isna().sum())\n",
        "print('Количество строк в arr_time: ', df[to_del]['arr_time'].isna().sum())\n",
        "print('Количество строк в arr_delay: ', df[to_del]['arr_delay'].isna().sum())\n",
        "print('Количество строк в tailnum: ', df[to_del]['tailnum'].isna().sum())\n",
        "print('Количество строк в air_time: ', df[to_del]['air_time'].isna().sum())"
      ],
      "metadata": {
        "colab": {
          "base_uri": "https://localhost:8080/"
        },
        "id": "hkIgoTuCfrBI",
        "outputId": "0d2451de-5d3a-4451-dfe3-d1384f7a7bf6"
      },
      "execution_count": null,
      "outputs": [
        {
          "output_type": "stream",
          "name": "stdout",
          "text": [
            "Количество строк в dep_time:  8255\n",
            "Количество строк в dep_delay:  8255\n",
            "Количество строк в arr_time:  8713\n",
            "Количество строк в arr_delay:  9430\n",
            "Количество строк в tailnum:  2512\n",
            "Количество строк в air_time:  9430\n"
          ]
        }
      ]
    },
    {
      "cell_type": "markdown",
      "source": [
        "Заметим, что во всех строк, в которых есть хотя бы одно пропущенное значение, отсутствуют значения в столбцах `arr_delay` и `air_time`.\n",
        "\n",
        "Из этого можем выдвинуть следующее предположение: рейсы, в которых отсутствует хотя бы одно значение, скорее всего, были отменены."
      ],
      "metadata": {
        "id": "uS6Zt5Gph7C0"
      }
    },
    {
      "cell_type": "code",
      "source": [
        "df = df.dropna() # удалили пустые строки"
      ],
      "metadata": {
        "id": "_mjOUlfHU5CL"
      },
      "execution_count": null,
      "outputs": []
    },
    {
      "cell_type": "markdown",
      "source": [
        "**ЗАДАНИЕ 2**\n",
        "\n",
        "Постройте в одних осях нормированные гистограммы времени задержки вылета и прилета. Ограничьте диапазон построения гистограмм, чтобы избавиться от выбросов, и опишите характер выбросов (количество и значения). Есть ли другие особенности в полученных распределениях?\n"
      ],
      "metadata": {
        "id": "wWSQFThcVcL4"
      }
    },
    {
      "cell_type": "code",
      "source": [
        "plt.hist(x=df['arr_delay'])\n",
        "plt.hist(x=df['dep_delay'])"
      ],
      "metadata": {
        "colab": {
          "base_uri": "https://localhost:8080/",
          "height": 517
        },
        "id": "HWgU4r45Vfs_",
        "outputId": "2d161975-e7d5-4547-8a4d-cdaadcda374d"
      },
      "execution_count": null,
      "outputs": [
        {
          "output_type": "execute_result",
          "data": {
            "text/plain": [
              "(array([3.11999e+05, 1.34510e+04, 1.65700e+03, 1.79000e+02, 2.30000e+01,\n",
              "        1.10000e+01, 1.70000e+01, 6.00000e+00, 2.00000e+00, 1.00000e+00]),\n",
              " array([ -43. ,   91.4,  225.8,  360.2,  494.6,  629. ,  763.4,  897.8,\n",
              "        1032.2, 1166.6, 1301. ]),\n",
              " <BarContainer object of 10 artists>)"
            ]
          },
          "metadata": {},
          "execution_count": 30
        },
        {
          "output_type": "display_data",
          "data": {
            "text/plain": [
              "<Figure size 640x480 with 1 Axes>"
            ],
            "image/png": "[encoded data removed]"
          },
          "metadata": {}
        }
      ]
    },
    {
      "cell_type": "markdown",
      "source": [
        "Из этого графика трудно что-либо выяснить ввиду наличия выбросов (распределения сдвинуты вправо). Построим boxplot для `arr_delay` и `dep_delay` для определения выбросов."
      ],
      "metadata": {
        "id": "hWITD1U-inui"
      }
    },
    {
      "cell_type": "code",
      "source": [
        "plt.boxplot(x=df['arr_delay'])"
      ],
      "metadata": {
        "colab": {
          "base_uri": "https://localhost:8080/",
          "height": 569
        },
        "id": "psOYV93wWGDz",
        "outputId": "e39a68a1-3c29-4004-cf33-eae004a92dcb"
      },
      "execution_count": null,
      "outputs": [
        {
          "output_type": "execute_result",
          "data": {
            "text/plain": [
              "{'whiskers': [<matplotlib.lines.Line2D at 0x7f387f4365c0>,\n",
              "  <matplotlib.lines.Line2D at 0x7f387f436860>],\n",
              " 'caps': [<matplotlib.lines.Line2D at 0x7f387f436b00>,\n",
              "  <matplotlib.lines.Line2D at 0x7f387f436da0>],\n",
              " 'boxes': [<matplotlib.lines.Line2D at 0x7f387f436440>],\n",
              " 'medians': [<matplotlib.lines.Line2D at 0x7f387f437040>],\n",
              " 'fliers': [<matplotlib.lines.Line2D at 0x7f387f4372e0>],\n",
              " 'means': []}"
            ]
          },
          "metadata": {},
          "execution_count": 31
        },
        {
          "output_type": "display_data",
          "data": {
            "text/plain": [
              "<Figure size 640x480 with 1 Axes>"
            ],
            "image/png": "[encoded data removed]"
          },
          "metadata": {}
        }
      ]
    },
    {
      "cell_type": "code",
      "source": [
        "plt.boxplot(x=df['dep_delay'])"
      ],
      "metadata": {
        "colab": {
          "base_uri": "https://localhost:8080/",
          "height": 569
        },
        "id": "eBdJMOHjW6si",
        "outputId": "3f2de18a-f0e5-461b-9e97-73d6f28243e0"
      },
      "execution_count": null,
      "outputs": [
        {
          "output_type": "execute_result",
          "data": {
            "text/plain": [
              "{'whiskers': [<matplotlib.lines.Line2D at 0x7f387f4c1870>,\n",
              "  <matplotlib.lines.Line2D at 0x7f387f4c1b10>],\n",
              " 'caps': [<matplotlib.lines.Line2D at 0x7f387f4c1db0>,\n",
              "  <matplotlib.lines.Line2D at 0x7f387f4c2050>],\n",
              " 'boxes': [<matplotlib.lines.Line2D at 0x7f387f4c15d0>],\n",
              " 'medians': [<matplotlib.lines.Line2D at 0x7f387f4c22f0>],\n",
              " 'fliers': [<matplotlib.lines.Line2D at 0x7f387f4c2590>],\n",
              " 'means': []}"
            ]
          },
          "metadata": {},
          "execution_count": 32
        },
        {
          "output_type": "display_data",
          "data": {
            "text/plain": [
              "<Figure size 640x480 with 1 Axes>"
            ],
            "image/png": "[encoded data removed]"
          },
          "metadata": {}
        }
      ]
    },
    {
      "cell_type": "markdown",
      "source": [
        "В двух графиках выше есть множество черных кружков -- это и есть выбросы в данных. Выделим данные без них, используя квантили 0.25 и 0.75, построим график с нормировкой столбцов."
      ],
      "metadata": {
        "id": "nDYr-mqxi5gE"
      }
    },
    {
      "cell_type": "code",
      "source": [
        "def my_filter(column_name):\n",
        "  Q1 = df[column_name].quantile(0.25)\n",
        "  Q3 = df[column_name].quantile(0.75)\n",
        "  IQR = Q3 - Q1\n",
        "  Lower_Fence = Q1 - (1.5 * IQR)\n",
        "  Upper_Fence = Q3 + (1.5 * IQR)\n",
        "  plt.hist(x=df[(df[column_name]<=Upper_Fence) & (Lower_Fence<=df[column_name])][column_name], density=True, alpha=0.75)\n",
        "  return Lower_Fence, Upper_Fence\n",
        "\n",
        "\n",
        "\n",
        "LFa, UFa = my_filter('arr_delay')\n",
        "LFd, UFd = my_filter('dep_delay')\n",
        "# Синим - задержки вылета, оранжевым -- задержки отправления"
      ],
      "metadata": {
        "colab": {
          "base_uri": "https://localhost:8080/",
          "height": 430
        },
        "id": "UFPCZeY-XZvf",
        "outputId": "9c7bd67f-4401-43dd-be98-c1cbe74d8724"
      },
      "execution_count": null,
      "outputs": [
        {
          "output_type": "display_data",
          "data": {
            "text/plain": [
              "<Figure size 640x480 with 1 Axes>"
            ],
            "image/png": "[encoded data removed]"
          },
          "metadata": {}
        }
      ]
    },
    {
      "cell_type": "code",
      "source": [
        "column_name = 'arr_delay'\n",
        "df[(df[column_name]>UFa) | (LFa>df[column_name])][column_name].describe()"
      ],
      "metadata": {
        "colab": {
          "base_uri": "https://localhost:8080/"
        },
        "id": "hA19JW6TYy2U",
        "outputId": "569651e0-517c-45fc-c915-69a187370369"
      },
      "execution_count": null,
      "outputs": [
        {
          "output_type": "execute_result",
          "data": {
            "text/plain": [
              "count    27880.000000\n",
              "mean       120.556241\n",
              "std         67.450197\n",
              "min        -86.000000\n",
              "25%         77.000000\n",
              "50%        100.000000\n",
              "75%        143.000000\n",
              "max       1272.000000\n",
              "Name: arr_delay, dtype: float64"
            ]
          },
          "metadata": {},
          "execution_count": 43
        }
      ]
    },
    {
      "cell_type": "markdown",
      "source": [
        "**Изучение выбросов для столбца `arr_delay`.**\n",
        "\n",
        "1.   Количество выбросов: 27880\n",
        "2.   Среднее значение: 120,5 (задержка примерно на два часа)\n",
        "3.   Минимальное значение: -86 (рейс вылетел на 86 минут ранее)\n",
        "4.   Максимальное значение: 1272 (рейс вылетел на 1272 минуты позже)\n",
        "\n",
        "Других особенностей выявлено не было.\n"
      ],
      "metadata": {
        "id": "AvNkE_URlCqQ"
      }
    },
    {
      "cell_type": "code",
      "source": [
        "column_name = 'dep_delay'\n",
        "df[(df[column_name]>UFd) | (LFd>df[column_name])][column_name].describe()"
      ],
      "metadata": {
        "colab": {
          "base_uri": "https://localhost:8080/"
        },
        "id": "nJ2D6iOLPMYm",
        "outputId": "72bc5a41-07ca-4fb9-9860-7a7c4f841021"
      },
      "execution_count": null,
      "outputs": [
        {
          "output_type": "execute_result",
          "data": {
            "text/plain": [
              "count    42857.000000\n",
              "mean        92.996500\n",
              "std         64.847403\n",
              "min        -43.000000\n",
              "25%         50.000000\n",
              "50%         72.000000\n",
              "75%        114.000000\n",
              "max       1301.000000\n",
              "Name: dep_delay, dtype: float64"
            ]
          },
          "metadata": {},
          "execution_count": 165
        }
      ]
    },
    {
      "cell_type": "markdown",
      "source": [
        "**Изучение выбросов для столбца `arr_delay`.**\n",
        "\n",
        "1.   Количество выбросов: 42857\n",
        "2.   Среднее значение: 93 (задержка примерно на полтора часа)\n",
        "3.   Минимальное значение: -43 (рейс прилетел на 43 минут ранее)\n",
        "4.   Максимальное значение: 1301 (рейс прилетел на 1301 минуту позже)\n",
        "\n",
        "Других особенностей выявлено не было."
      ],
      "metadata": {
        "id": "UVp54d39PRqK"
      }
    },
    {
      "cell_type": "markdown",
      "source": [
        "**ЗАДАНИЕ 3**\n",
        "\n",
        "Оцените среднее значение, медиану и величину стандартного отклонения для времени задержки вылета и времени задержки прилета.\n"
      ],
      "metadata": {
        "id": "VHpUm62_Zp77"
      }
    },
    {
      "cell_type": "code",
      "source": [
        "df[['arr_delay', 'dep_delay']].describe()"
      ],
      "metadata": {
        "colab": {
          "base_uri": "https://localhost:8080/",
          "height": 300
        },
        "id": "vYSgPh35ZsNX",
        "outputId": "fa80455a-21f7-4fbd-e936-164f20fce5e6"
      },
      "execution_count": null,
      "outputs": [
        {
          "output_type": "execute_result",
          "data": {
            "text/plain": [
              "           arr_delay      dep_delay\n",
              "count  327346.000000  327346.000000\n",
              "mean        6.895377      12.555156\n",
              "std        44.633292      40.065688\n",
              "min       -86.000000     -43.000000\n",
              "25%       -17.000000      -5.000000\n",
              "50%        -5.000000      -2.000000\n",
              "75%        14.000000      11.000000\n",
              "max      1272.000000    1301.000000"
            ],
            "text/html": [
              "\n",
              "  <div id=\"df-b94915d2-1f8f-46cd-bdb1-fc3e98bb3564\">\n",
              "    <div class=\"colab-df-container\">\n",
              "      <div>\n",
              "<style scoped>\n",
              "    .dataframe tbody tr th:only-of-type {\n",
              "        vertical-align: middle;\n",
              "    }\n",
              "\n",
              "    .dataframe tbody tr th {\n",
              "        vertical-align: top;\n",
              "    }\n",
              "\n",
              "    .dataframe thead th {\n",
              "        text-align: right;\n",
              "    }\n",
              "</style>\n",
              "<table border=\"1\" class=\"dataframe\">\n",
              "  <thead>\n",
              "    <tr style=\"text-align: right;\">\n",
              "      <th></th>\n",
              "      <th>arr_delay</th>\n",
              "      <th>dep_delay</th>\n",
              "    </tr>\n",
              "  </thead>\n",
              "  <tbody>\n",
              "    <tr>\n",
              "      <th>count</th>\n",
              "      <td>327346.000000</td>\n",
              "      <td>327346.000000</td>\n",
              "    </tr>\n",
              "    <tr>\n",
              "      <th>mean</th>\n",
              "      <td>6.895377</td>\n",
              "      <td>12.555156</td>\n",
              "    </tr>\n",
              "    <tr>\n",
              "      <th>std</th>\n",
              "      <td>44.633292</td>\n",
              "      <td>40.065688</td>\n",
              "    </tr>\n",
              "    <tr>\n",
              "      <th>min</th>\n",
              "      <td>-86.000000</td>\n",
              "      <td>-43.000000</td>\n",
              "    </tr>\n",
              "    <tr>\n",
              "      <th>25%</th>\n",
              "      <td>-17.000000</td>\n",
              "      <td>-5.000000</td>\n",
              "    </tr>\n",
              "    <tr>\n",
              "      <th>50%</th>\n",
              "      <td>-5.000000</td>\n",
              "      <td>-2.000000</td>\n",
              "    </tr>\n",
              "    <tr>\n",
              "      <th>75%</th>\n",
              "      <td>14.000000</td>\n",
              "      <td>11.000000</td>\n",
              "    </tr>\n",
              "    <tr>\n",
              "      <th>max</th>\n",
              "      <td>1272.000000</td>\n",
              "      <td>1301.000000</td>\n",
              "    </tr>\n",
              "  </tbody>\n",
              "</table>\n",
              "</div>\n",
              "      <button class=\"colab-df-convert\" onclick=\"convertToInteractive('df-b94915d2-1f8f-46cd-bdb1-fc3e98bb3564')\"\n",
              "              title=\"Convert this dataframe to an interactive table.\"\n",
              "              style=\"display:none;\">\n",
              "        \n",
              "  <svg xmlns=\"http://www.w3.org/2000/svg\" height=\"24px\"viewBox=\"0 0 24 24\"\n",
              "       width=\"24px\">\n",
              "    <path d=\"M0 0h24v24H0V0z\" fill=\"none\"/>\n",
              "    <path d=\"M18.56 5.44l.94 2.06.94-2.06 2.06-.94-2.06-.94-.94-2.06-.94 2.06-2.06.94zm-11 1L8.5 8.5l.94-2.06 2.06-.94-2.06-.94L8.5 2.5l-.94 2.06-2.06.94zm10 10l.94 2.06.94-2.06 2.06-.94-2.06-.94-.94-2.06-.94 2.06-2.06.94z\"/><path d=\"M17.41 7.96l-1.37-1.37c-.4-.4-.92-.59-1.43-.59-.52 0-1.04.2-1.43.59L10.3 9.45l-7.72 7.72c-.78.78-.78 2.05 0 2.83L4 21.41c.39.39.9.59 1.41.59.51 0 1.02-.2 1.41-.59l7.78-7.78 2.81-2.81c.8-.78.8-2.07 0-2.86zM5.41 20L4 18.59l7.72-7.72 1.47 1.35L5.41 20z\"/>\n",
              "  </svg>\n",
              "      </button>\n",
              "      \n",
              "  <style>\n",
              "    .colab-df-container {\n",
              "      display:flex;\n",
              "      flex-wrap:wrap;\n",
              "      gap: 12px;\n",
              "    }\n",
              "\n",
              "    .colab-df-convert {\n",
              "      background-color: #E8F0FE;\n",
              "      border: none;\n",
              "      border-radius: 50%;\n",
              "      cursor: pointer;\n",
              "      display: none;\n",
              "      fill: #1967D2;\n",
              "      height: 32px;\n",
              "      padding: 0 0 0 0;\n",
              "      width: 32px;\n",
              "    }\n",
              "\n",
              "    .colab-df-convert:hover {\n",
              "      background-color: #E2EBFA;\n",
              "      box-shadow: 0px 1px 2px rgba(60, 64, 67, 0.3), 0px 1px 3px 1px rgba(60, 64, 67, 0.15);\n",
              "      fill: #174EA6;\n",
              "    }\n",
              "\n",
              "    [theme=dark] .colab-df-convert {\n",
              "      background-color: #3B4455;\n",
              "      fill: #D2E3FC;\n",
              "    }\n",
              "\n",
              "    [theme=dark] .colab-df-convert:hover {\n",
              "      background-color: #434B5C;\n",
              "      box-shadow: 0px 1px 3px 1px rgba(0, 0, 0, 0.15);\n",
              "      filter: drop-shadow(0px 1px 2px rgba(0, 0, 0, 0.3));\n",
              "      fill: #FFFFFF;\n",
              "    }\n",
              "  </style>\n",
              "\n",
              "      <script>\n",
              "        const buttonEl =\n",
              "          document.querySelector('#df-b94915d2-1f8f-46cd-bdb1-fc3e98bb3564 button.colab-df-convert');\n",
              "        buttonEl.style.display =\n",
              "          google.colab.kernel.accessAllowed ? 'block' : 'none';\n",
              "\n",
              "        async function convertToInteractive(key) {\n",
              "          const element = document.querySelector('#df-b94915d2-1f8f-46cd-bdb1-fc3e98bb3564');\n",
              "          const dataTable =\n",
              "            await google.colab.kernel.invokeFunction('convertToInteractive',\n",
              "                                                     [key], {});\n",
              "          if (!dataTable) return;\n",
              "\n",
              "          const docLinkHtml = 'Like what you see? Visit the ' +\n",
              "            '<a target=\"_blank\" href=https://colab.research.google.com/notebooks/data_table.ipynb>data table notebook</a>'\n",
              "            + ' to learn more about interactive tables.';\n",
              "          element.innerHTML = '';\n",
              "          dataTable['output_type'] = 'display_data';\n",
              "          await google.colab.output.renderOutput(dataTable, element);\n",
              "          const docLink = document.createElement('div');\n",
              "          docLink.innerHTML = docLinkHtml;\n",
              "          element.appendChild(docLink);\n",
              "        }\n",
              "      </script>\n",
              "    </div>\n",
              "  </div>\n",
              "  "
            ]
          },
          "metadata": {},
          "execution_count": 45
        }
      ]
    },
    {
      "cell_type": "markdown",
      "source": [
        "Для `arr_delay`:\n",
        "\n",
        "\n",
        "1.   Среднее значение (mean) == 6.895377\n",
        "2.   Медиана (перцентиль 50% в табличке выше) == -5\n",
        "3.   Величина стандартного отклонения (std) == 44.633292\n",
        "\n",
        "\n",
        "Для `dep_delay`:\n",
        "\n",
        "\n",
        "1.   Среднее значение (mean) == 12.555156\n",
        "2.   Медиана (перцентиль 50% в табличке выше) == -2\n",
        "3.   Величина стандартного отклонения (std) == 40.065688\n",
        "\n"
      ],
      "metadata": {
        "id": "i2UNzieQlvkV"
      }
    },
    {
      "cell_type": "markdown",
      "source": [
        "**ЗАДАНИЕ 4**\n",
        "\n",
        "\n",
        "Отсортируйте авиакомпании по величине средней задержки вылета и приведите среднюю задержку вылета вместе с 95%-доверительным интервалом по каждой авиакомпании. Результат представьте в виде графика.\n"
      ],
      "metadata": {
        "id": "6AZiTgGXajyn"
      }
    },
    {
      "cell_type": "code",
      "source": [
        "def function(carrier):\n",
        "  return df[df['carrier']==carrier]['dep_delay'].mean()\n",
        "\n",
        "# df['new'] = df['carrier'].apply(function)\n",
        "carriers = {}\n",
        "for carrier in df['carrier'].unique():\n",
        "  carriers[function(carrier)] =carrier\n",
        "for key in sorted(carriers):\n",
        "    print(carriers[key], key)"
      ],
      "metadata": {
        "colab": {
          "base_uri": "https://localhost:8080/"
        },
        "id": "UZsL9Lyvai5H",
        "outputId": "8c196ee2-a077-4ec4-f2a0-76d39d3f8cc9"
      },
      "execution_count": null,
      "outputs": [
        {
          "output_type": "stream",
          "name": "stdout",
          "text": [
            "US 3.74469265291715\n",
            "HA 4.900584795321637\n",
            "AS 5.830747531734838\n",
            "AA 8.569130121764172\n",
            "DL 9.223949809056192\n",
            "MQ 10.445380836362183\n",
            "UA 12.016908379772248\n",
            "OO 12.586206896551724\n",
            "VX 12.756645817044566\n",
            "B6 12.967547965734797\n",
            "9E 16.439574418873597\n",
            "WN 17.66165725672534\n",
            "FL 18.605984251968504\n",
            "YV 18.89889705882353\n",
            "EV 19.838929326132895\n",
            "F9 20.201174743024964\n"
          ]
        }
      ]
    },
    {
      "cell_type": "markdown",
      "source": [
        "Приведенный код выше отсортировал авиакомпании по средней величине задержки. Вот этот список по возрастанию:\n",
        "\n",
        "`US, HA, AS, AA, DL, MQ, UA, OO, VX, B6, 9E, WN, FL, YV, EV, F9`\n",
        ""
      ],
      "metadata": {
        "id": "n0nK1zo3nM1e"
      }
    },
    {
      "cell_type": "code",
      "source": [
        "data_dict = {}\n",
        "data_dict['category'] = []\n",
        "data_dict['lower'] = []\n",
        "data_dict['upper'] = []\n",
        "for carrier in carriers.values():\n",
        "  df1 = df[df['carrier']==carrier]['dep_delay']\n",
        "  interval = st.norm.interval(alpha=0.95, loc=np.mean(df1), scale=st.sem(df1)) # высчитываем доверительный интервал\n",
        "  data_dict['lower'].append(interval[0])\n",
        "  data_dict['upper'].append(interval[1])\n",
        "  data_dict['category'].append(carrier)\n",
        "\n",
        "dataset = pd.DataFrame(data_dict)\n",
        "for lower,upper,y in zip(dataset['lower'], dataset['upper'], range(len(dataset))):\n",
        "    plt.plot((lower, upper), (y, y), 'ro-', color='orange')\n",
        "    plt.yticks(range(len(dataset)), list(dataset['category']))"
      ],
      "metadata": {
        "colab": {
          "base_uri": "https://localhost:8080/",
          "height": 519
        },
        "id": "DxJ6NKBZhZYU",
        "outputId": "c46ddc87-b493-45a8-de70-e8adf9b8a1d0"
      },
      "execution_count": null,
      "outputs": [
        {
          "output_type": "stream",
          "name": "stderr",
          "text": [
            "<ipython-input-47-c21a3cd1e9d2>:7: DeprecationWarning: Use of keyword argument 'alpha' for method 'interval' is deprecated and wil be removed in SciPy 1.11.0. Use first positional argument or keyword argument 'confidence' instead.\n",
            "  interval = st.norm.interval(alpha=0.95, loc=np.mean(df1), scale=st.sem(df1)) # высчитываем доверительный интервал\n",
            "<ipython-input-47-c21a3cd1e9d2>:14: UserWarning: color is redundantly defined by the 'color' keyword argument and the fmt string \"ro-\" (-> color='r'). The keyword argument will take precedence.\n",
            "  plt.plot((lower, upper), (y, y), 'ro-', color='orange')\n"
          ]
        },
        {
          "output_type": "display_data",
          "data": {
            "text/plain": [
              "<Figure size 640x480 with 1 Axes>"
            ],
            "image/png": "[encoded data removed]"
          },
          "metadata": {}
        }
      ]
    },
    {
      "cell_type": "markdown",
      "source": [
        "**ЗАДАНИЕ 5**\n",
        "\n",
        "Значимо ли различие в среднем времени задержки вылета для авиакомпаний American Airlines (AA) и Delta Airlines (DL)? На каком уровне значимости можно отвергнуть гипотезу о равенстве средних?\n"
      ],
      "metadata": {
        "id": "EauBTZ6Vle3f"
      }
    },
    {
      "cell_type": "code",
      "source": [
        "dfAA = df[df['carrier']=='AA']['dep_delay']\n",
        "dfDL = df[df['carrier']=='DL']['dep_delay']\n",
        "stat, p_value = ttest_ind(dfAA, dfDL)\n",
        "print(p_value)"
      ],
      "metadata": {
        "colab": {
          "base_uri": "https://localhost:8080/"
        },
        "id": "G0hkF_c6lgt8",
        "outputId": "e08cc2d0-a4c6-431f-e1fa-1c2305e49017"
      },
      "execution_count": null,
      "outputs": [
        {
          "output_type": "stream",
          "name": "stdout",
          "text": [
            "0.01945036352051051\n"
          ]
        }
      ]
    },
    {
      "cell_type": "markdown",
      "source": [
        "Воспользуемся t-test'ом, он вывел `p-value = 0.01945036352051051`\n",
        "\n",
        "На уровне значимости `p = 0.05` > p_value можем отвергать гипотезу. Различие значимо.\n"
      ],
      "metadata": {
        "id": "DgA003hTpfun"
      }
    },
    {
      "cell_type": "markdown",
      "source": [
        "**ЗАДАНИЕ 6**\n",
        "\n",
        "Сравните между собой аэропорты вылета (JFK, LGA, EWR) с точки зрения статистики задержек вылетов. Являются ли различия статистически значимыми?\n"
      ],
      "metadata": {
        "id": "843Nr1A1nZbZ"
      }
    },
    {
      "cell_type": "code",
      "source": [
        "# Выборки\n",
        "dfJFK = df[df['origin']=='JFK']['dep_delay']\n",
        "dfLGA = df[df['origin']=='LGA']['dep_delay']\n",
        "dfEWR = df[df['origin']=='EWR']['dep_delay']\n",
        "\n",
        "\n",
        "# Выполняем t-тест для каждой пары\n",
        "stat, p_value = ttest_ind(dfJFK, dfLGA)\n",
        "print(f\"p-value: {p_value} для JFK-LGA\")\n",
        "\n",
        "stat, p_value = ttest_ind(dfJFK, dfEWR)\n",
        "print(f\"p-value: {p_value} для JFK-EWR\")\n",
        "\n",
        "stat, p_value = ttest_ind(dfLGA, dfEWR)\n",
        "print(f\"p-value: {p_value} для LGA-EWR\")"
      ],
      "metadata": {
        "id": "jzE8bvbMnW0o",
        "colab": {
          "base_uri": "https://localhost:8080/"
        },
        "outputId": "11784079-27f4-475b-b20d-e994be28b3b3"
      },
      "execution_count": null,
      "outputs": [
        {
          "output_type": "stream",
          "name": "stdout",
          "text": [
            "p-value: 4.9582451486320366e-24 для JFK-LGA\n",
            "p-value: 3.984431388114213e-70 для JFK-EWR\n",
            "p-value: 1.9011910565531667e-161 для LGA-EWR\n"
          ]
        }
      ]
    },
    {
      "cell_type": "markdown",
      "source": [
        "Все p_value по парам на порядки ниже порогового значения `p = 0.05`, поэтому различия являются статистически значимыми."
      ],
      "metadata": {
        "id": "c-2euKfTswZl"
      }
    },
    {
      "cell_type": "markdown",
      "source": [
        "**ЗАДАНИЕ 7**\n",
        "\n",
        "Каким распределением можно описать распределение времени задержки вылета в диапазоне, где время задержки вылета > 0? Предложите общий вид распределения и оцените его параметры. На одном рисунке изобразите гистограмму и график плотности аппроксимирующего распределения.\n"
      ],
      "metadata": {
        "id": "HA5eZ1AKoLtN"
      }
    },
    {
      "cell_type": "code",
      "source": [
        "x = expon.rvs(scale=20, size=25000)\n",
        "plt.hist(x=df[(df['dep_delay'] > 0) & (df['dep_delay'] < 200)]['dep_delay'], density=True, alpha=0.5, bins=50)\n",
        "plt.hist(x, density=True, alpha=0.5, bins=50)\n",
        "plt.show()"
      ],
      "metadata": {
        "colab": {
          "base_uri": "https://localhost:8080/",
          "height": 430
        },
        "id": "MqOYis_IP1CP",
        "outputId": "4d4fbe0b-4b32-415c-8a60-9a1a5f49f0fa"
      },
      "execution_count": null,
      "outputs": [
        {
          "output_type": "display_data",
          "data": {
            "text/plain": [
              "<Figure size 640x480 with 1 Axes>"
            ],
            "image/png": "[encoded data removed]"
          },
          "metadata": {}
        }
      ]
    },
    {
      "cell_type": "markdown",
      "source": [
        "На графике выше синим цветом изображено нормированное распределение времени задержки рейса, оранжевым -- экспоненциальное распределение.\n",
        "В качестве аппроксимирующего распределения взято экспоненциальное с параметром scale = 20."
      ],
      "metadata": {
        "id": "Z6oF7RK_xTXS"
      }
    },
    {
      "cell_type": "markdown",
      "source": [
        "**ЗАДАНИЕ 8**\n",
        "\n",
        "Для тех рейсов, для которых задержка вылета > 0, постройте в одних осях графики числа рейсов в месяц и среднего времени задержки в месяц. Найдите коэффициент корреляции между полученными значениями. Постройте точечную диаграмму (scatterplot), показывающую зависимость между полученными значениями (по оси Х отложите число рейсов в месяц). Нанесите на график линию регрессии. Выпишите уравнение регрессии."
      ],
      "metadata": {
        "id": "dNUwOeWcrPJs"
      }
    },
    {
      "cell_type": "code",
      "source": [
        "counts, means = [], []\n",
        "for i in range(1, 13):\n",
        "  filtered = df_copy[df_copy['month']==i]\n",
        "  counts.append(len(filtered))\n",
        "  means.append(filtered['dep_delay'].mean())\n",
        "\n",
        "plt.bar(range(1, 13), counts)\n",
        "plt.show()"
      ],
      "metadata": {
        "colab": {
          "base_uri": "https://localhost:8080/",
          "height": 430
        },
        "id": "4g_jvCfMrjGR",
        "outputId": "c6305b2e-6ad8-479a-d7df-6cfaec98acbd"
      },
      "execution_count": null,
      "outputs": [
        {
          "output_type": "display_data",
          "data": {
            "text/plain": [
              "<Figure size 640x480 with 1 Axes>"
            ],
            "image/png": "[encoded data removed]"
          },
          "metadata": {}
        }
      ]
    },
    {
      "cell_type": "markdown",
      "source": [
        "График выше -- график числа рейсов в месяц."
      ],
      "metadata": {
        "id": "Yxh0XNL0yvuv"
      }
    },
    {
      "cell_type": "code",
      "source": [
        "plt.bar(range(1, 13), means)"
      ],
      "metadata": {
        "colab": {
          "base_uri": "https://localhost:8080/",
          "height": 447
        },
        "id": "xNoQc-cjy0MS",
        "outputId": "ecc8779c-f7cf-4425-c887-527afef41a1d"
      },
      "execution_count": null,
      "outputs": [
        {
          "output_type": "execute_result",
          "data": {
            "text/plain": [
              "<BarContainer object of 12 artists>"
            ]
          },
          "metadata": {},
          "execution_count": 90
        },
        {
          "output_type": "display_data",
          "data": {
            "text/plain": [
              "<Figure size 640x480 with 1 Axes>"
            ],
            "image/png": "[encoded data removed]"
          },
          "metadata": {}
        }
      ]
    },
    {
      "cell_type": "markdown",
      "source": [
        "График выше -- график средней задержки рейсов в месяц.\n",
        "\n",
        "Теперь найдем коэффициент корреляции."
      ],
      "metadata": {
        "id": "0bmfgm2Wy2IZ"
      }
    },
    {
      "cell_type": "code",
      "source": [
        "corr, _ = pearsonr(counts, means)\n",
        "corr"
      ],
      "metadata": {
        "colab": {
          "base_uri": "https://localhost:8080/"
        },
        "id": "EH-ZiZ4QsnsV",
        "outputId": "f00012d2-c31c-4cbe-b215-f290592efa58"
      },
      "execution_count": null,
      "outputs": [
        {
          "output_type": "execute_result",
          "data": {
            "text/plain": [
              "0.7288370677699055"
            ]
          },
          "metadata": {},
          "execution_count": 79
        }
      ]
    },
    {
      "cell_type": "markdown",
      "source": [
        "Коэффициент корреляции ≈ 0.729. Построим график зависимости величины средней задержки от числа рейсов, а также вычислим уравнение регрессии."
      ],
      "metadata": {
        "id": "m5Me_9JzzFhK"
      }
    },
    {
      "cell_type": "code",
      "source": [
        "p = sns.regplot(x=counts, y=means, ci=None)\n",
        "slope, intercept, r, p, sterr = st.linregress(x=p.get_lines()[0].get_xdata(),\n",
        "                                                       y=p.get_lines()[0].get_ydata())\n",
        "print('y = ' + str(round(intercept, 3)) + ' + ' + str(round(slope, 3)) + 'x')"
      ],
      "metadata": {
        "colab": {
          "base_uri": "https://localhost:8080/",
          "height": 447
        },
        "id": "LucjyI32vml4",
        "outputId": "8c7d6314-55b8-4f6a-998d-080f18f3d198"
      },
      "execution_count": null,
      "outputs": [
        {
          "output_type": "stream",
          "name": "stdout",
          "text": [
            "y = 14.206 + 0.002x\n"
          ]
        },
        {
          "output_type": "display_data",
          "data": {
            "text/plain": [
              "<Figure size 640x480 with 1 Axes>"
            ],
            "image/png": "[encoded data removed]"
          },
          "metadata": {}
        }
      ]
    },
    {
      "cell_type": "markdown",
      "source": [
        "**ЗАДАНИЕ 9**\n",
        "\n",
        "Постройте график среднего времени задержки в зависимости от часа вылета. На отдельном графике постройте долю рейсов, для которых задержка > 0, в зависимости от часа вылета. Опишите словами наблюдаемую картину."
      ],
      "metadata": {
        "id": "01xRf5caw6sL"
      }
    },
    {
      "cell_type": "markdown",
      "source": [
        "Для начала заметим, что задержек в четыре часа утра в принципе нет:\n"
      ],
      "metadata": {
        "id": "dRltk2NQNOea"
      }
    },
    {
      "cell_type": "code",
      "source": [
        "df_copy['hour'].unique()"
      ],
      "metadata": {
        "colab": {
          "base_uri": "https://localhost:8080/"
        },
        "id": "y3AsobxsNWGd",
        "outputId": "e69bfb38-a710-4b93-895c-14d8f2552bf8"
      },
      "execution_count": null,
      "outputs": [
        {
          "output_type": "execute_result",
          "data": {
            "text/plain": [
              "array([ 5,  6,  7,  8,  9, 10, 11, 12, 13, 14, 15, 16, 17, 18, 19, 20, 21,\n",
              "       22, 23, 24,  1,  2,  3])"
            ]
          },
          "metadata": {},
          "execution_count": 160
        }
      ]
    },
    {
      "cell_type": "markdown",
      "source": [
        "График среднего времени задержки в зависимости от часа вылета."
      ],
      "metadata": {
        "id": "C027xMkbQ-nI"
      }
    },
    {
      "cell_type": "code",
      "source": [
        "df['hour'] = df['dep_time'].apply(lambda x: int(x // 100)).replace({0: 24})\n",
        "means_departure = [df[df['hour']==hour]['dep_delay'].mean() for hour in range(1, 25)]\n",
        "means_departure[3] = 0.0\n",
        "\n",
        "plt.bar(range(1, 25), means_departure)\n",
        "#means_departure"
      ],
      "metadata": {
        "colab": {
          "base_uri": "https://localhost:8080/",
          "height": 447
        },
        "id": "Q6aFSBRew-4T",
        "outputId": "f568f312-2879-4eb6-e035-cd5c6a19c34f"
      },
      "execution_count": null,
      "outputs": [
        {
          "output_type": "execute_result",
          "data": {
            "text/plain": [
              "<BarContainer object of 24 artists>"
            ]
          },
          "metadata": {},
          "execution_count": 161
        },
        {
          "output_type": "display_data",
          "data": {
            "text/plain": [
              "<Figure size 640x480 with 1 Axes>"
            ],
            "image/png": "[encoded data removed]"
          },
          "metadata": {}
        }
      ]
    },
    {
      "cell_type": "code",
      "source": [
        "means_departure_ = [df_copy[(df_copy['hour']==hour) & (df_copy['dep_delay'] > 0)]['dep_delay'].mean() for hour in range(1, 25)]\n",
        "means_departure_[3] = 0.0\n",
        "means_departure_normed = [x / sum(means_departure_) for x in means_departure_]\n",
        "plt.bar(range(1, 25), means_departure_normed)"
      ],
      "metadata": {
        "colab": {
          "base_uri": "https://localhost:8080/",
          "height": 447
        },
        "id": "O3HMk4d7I4qM",
        "outputId": "47d3ec88-9b33-4995-f6ac-eb3223b82f26"
      },
      "execution_count": null,
      "outputs": [
        {
          "output_type": "execute_result",
          "data": {
            "text/plain": [
              "<BarContainer object of 24 artists>"
            ]
          },
          "metadata": {},
          "execution_count": 159
        },
        {
          "output_type": "display_data",
          "data": {
            "text/plain": [
              "<Figure size 640x480 with 1 Axes>"
            ],
            "image/png": "[encoded data removed]"
          },
          "metadata": {}
        }
      ]
    },
    {
      "cell_type": "markdown",
      "source": [
        "Заметим, что в ночное время (с 22 до 3) количество задержек максимально. Изучим среднее количество рейсов по часам при помощи графика ниже.  "
      ],
      "metadata": {
        "id": "kUwfNAdOHZLf"
      }
    },
    {
      "cell_type": "code",
      "source": [
        "counts_departure = [len(df_copy[df_copy['hour']==hour]['dep_delay']) for hour in range(1, 25)]\n",
        "plt.bar(range(1, 25), counts_departure)"
      ],
      "metadata": {
        "colab": {
          "base_uri": "https://localhost:8080/",
          "height": 451
        },
        "id": "iSjcSeaz6JZz",
        "outputId": "4de5ca81-e2e0-4509-f941-53449065511e"
      },
      "execution_count": null,
      "outputs": [
        {
          "output_type": "execute_result",
          "data": {
            "text/plain": [
              "<BarContainer object of 24 artists>"
            ]
          },
          "metadata": {},
          "execution_count": 121
        },
        {
          "output_type": "display_data",
          "data": {
            "text/plain": [
              "<Figure size 640x480 with 1 Axes>"
            ],
            "image/png": "[encoded data removed]"
          },
          "metadata": {}
        }
      ]
    },
    {
      "cell_type": "markdown",
      "source": [
        "Начиная с 15 часов дня количество рейсов максимально. Возможно, аэропорты не справляются с нагрузкой, поэтому им приходится задерживать часть рейсов до ночи. Как раз к трём часам ночи поток разгружается и количество задержек уменьшается к нулю в четыре часа ночи, а начиная с пяти утра рейсы отправляются в полет даже чуть раньше назначенного времени."
      ],
      "metadata": {
        "id": "QTYway1OIh2Z"
      }
    },
    {
      "cell_type": "markdown",
      "source": [
        "**ЗАДАНИЕ 10**\n",
        "\n",
        "Предложите способ разделить авиакомпании на пунктуальные и непунктуальные. Какие авиакомпании в какую группу попадают? Будут ли различаться группы в зависимости от дальности перелета?"
      ],
      "metadata": {
        "id": "fRzPVy1x6fZi"
      }
    },
    {
      "cell_type": "markdown",
      "source": [
        "OAG является ведущим глобальным поставщиком данных о путешествиях. Эта компания предлагает следующее понятие задержки рейса: задержкой рейса называется вылет или прилет более чем на 15 минут позднее запланированного. По доле таких задержек рейса и будем делить авиакомпании.\n"
      ],
      "metadata": {
        "id": "fTj-sUPWCoDE"
      }
    },
    {
      "cell_type": "code",
      "source": [
        "def function(carrier):\n",
        "  dff = df[df['carrier']==carrier]\n",
        "  bad = dff[(dff['dep_delay'] > 15) | (dff['arr_delay'] > 15) ]\n",
        "\n",
        "  return len(bad) / len(df[df['carrier']==carrier])\n",
        "\n",
        "\n",
        "carriers = {}\n",
        "for carrier in df['carrier'].unique():\n",
        "  carriers[function(carrier)] =carrier\n",
        "for key in sorted(carriers):\n",
        "    # print(carriers[key], key, df[df['carrier']==carriers[key]]['distance'].mean())\n",
        "    print(carriers[key], key)"
      ],
      "metadata": {
        "colab": {
          "base_uri": "https://localhost:8080/"
        },
        "id": "Fyum7RXL6htT",
        "outputId": "d8251bc2-b7fe-453d-cd87-66384596435e"
      },
      "execution_count": null,
      "outputs": [
        {
          "output_type": "stream",
          "name": "stdout",
          "text": [
            "HA 0.15497076023391812\n",
            "AS 0.18899858956276447\n",
            "US 0.19731733145075891\n",
            "AA 0.22390208783297336\n",
            "DL 0.22422258592471359\n",
            "VX 0.2359265050820954\n",
            "OO 0.2413793103448276\n",
            "UA 0.27709321241909246\n",
            "MQ 0.29795902064943885\n",
            "B6 0.2997095228403856\n",
            "9E 0.30334219960680003\n",
            "WN 0.3182497509133178\n",
            "YV 0.3492647058823529\n",
            "EV 0.3516279251780543\n",
            "FL 0.3700787401574803\n",
            "F9 0.4199706314243759\n"
          ]
        }
      ]
    },
    {
      "cell_type": "markdown",
      "source": [
        "Приведенный выше скрипт отсортировал авиакомпании по доле задержек. Выберем критическое значение `percent_of_delays = 0.25`. Таким образом, если процент задержек у авиакомпании меньше `percent_of_delays`, то счиатем авиакомпанию пунктуальной; иначе -- непунктуальной.\n",
        "\n",
        "Получилось следующее разделение авиакомпаний:\n"
      ],
      "metadata": {
        "id": "CB4uALjrDM4-"
      }
    },
    {
      "cell_type": "code",
      "source": [
        "punc = ['HA', 'AS', 'US', 'AA', 'DL', 'VX', 'OO']\n",
        "not_punc = ['UA', 'MQ', 'B6', '9E', 'WN', 'YV', 'EV', 'FL', 'F9']"
      ],
      "metadata": {
        "id": "tzOrT6Y8Dp2a"
      },
      "execution_count": null,
      "outputs": []
    },
    {
      "cell_type": "markdown",
      "source": [
        "Теперь исследуем пунктуальность компаний на дальних расстояниях. Дальними расстояниями будем считать значение `distance > 500`.\n"
      ],
      "metadata": {
        "id": "HDx39fIxEkTS"
      }
    },
    {
      "cell_type": "code",
      "source": [
        "def function(carrier):\n",
        "  dff = df[(df['carrier']==carrier) & (df['distance'] > 500)]\n",
        "  bad = dff[(dff['dep_delay'] > 15) | (dff['arr_delay'] > 15) ]\n",
        "\n",
        "  return len(bad) / len(dff)\n",
        "\n",
        "carriers = {}\n",
        "for carrier in df['carrier'].unique():\n",
        "  carriers[function(carrier)] =carrier\n",
        "for key in sorted(carriers):\n",
        "    # print(carriers[key], key, df[df['carrier']==carriers[key]]['distance'].mean())\n",
        "    print(carriers[key], key)"
      ],
      "metadata": {
        "colab": {
          "base_uri": "https://localhost:8080/"
        },
        "id": "w_mGZZzCE3On",
        "outputId": "ea19b866-e89d-4fbc-f5d8-2b752d39b88c"
      },
      "execution_count": null,
      "outputs": [
        {
          "output_type": "stream",
          "name": "stdout",
          "text": [
            "HA 0.15497076023391812\n",
            "AS 0.18899858956276447\n",
            "US 0.20124790463773515\n",
            "DL 0.22440334519728367\n",
            "AA 0.22523673776991382\n",
            "VX 0.2359265050820954\n",
            "UA 0.2790830291970803\n",
            "YV 0.29844961240310075\n",
            "MQ 0.3105765559373807\n",
            "B6 0.3129027386226339\n",
            "9E 0.3165394973070018\n",
            "WN 0.32041540020263426\n",
            "EV 0.3694685505271462\n",
            "FL 0.37676810972996144\n",
            "OO 0.4\n",
            "F9 0.4199706314243759\n"
          ]
        }
      ]
    },
    {
      "cell_type": "markdown",
      "source": [
        "При пороговом значении `percent_of_delays = 0.25` получается следующее разделение:\n",
        "\n",
        "`punc     = ['HA', 'AS', 'US', 'DL', 'AA', 'VX']`\n",
        "\n",
        "`not_punc = ['UA', 'YV', 'MQ', 'B6', '9E', 'WN', 'EV', 'FL', 'OO', 'F9']`"
      ],
      "metadata": {
        "id": "MfaENgvPGD2U"
      }
    },
    {
      "cell_type": "markdown",
      "source": [
        "Заметим, что при расстояниях `distance > 500` авиакомпания OO перешла из списка пунктуальных авиакомпаний в список непунктуальных, исходя из чего мы делаем вывод, что группы *различаются в зависимости от дальности перелета.*"
      ],
      "metadata": {
        "id": "mR02gd_PGqiF"
      }
    }
  ]
}